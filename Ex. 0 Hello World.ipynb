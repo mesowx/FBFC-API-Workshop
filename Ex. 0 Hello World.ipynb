{
 "cells": [
  {
   "cell_type": "markdown",
   "metadata": {},
   "source": [
    "# Ex. 0 API Hello World!"
   ]
  },
  {
   "cell_type": "markdown",
   "metadata": {},
   "source": [
    "Each query you make to the API consists of three components\n",
    "1. The URL to the API - `api.mesowest.net/v2/`\n",
    "2. The target service/subservices - `api.mesowest.net/v2/stations/latest?`\n",
    "3. Service parameters to refine your search + your api token - `api.mesowest.net/v2/stations/latest?stid=kslc&token=demotoken&within=60`"
   ]
  },
  {
   "cell_type": "markdown",
   "metadata": {
    "collapsed": true
   },
   "source": [
    "Try running this query in your web browser by copying it to the address bar. You should see a 'blob' of data come back for the station KSLC. This is great, but it's hard to interact with this data without saving it as a file and then importing it in to your project."
   ]
  },
  {
   "cell_type": "markdown",
   "metadata": {},
   "source": [
    "Fortunately, most programming languages have easy ways of interacting with web requests and JSON data"
   ]
  },
  {
   "cell_type": "markdown",
   "metadata": {},
   "source": [
    "### Since this course is mostly taught in Python, we'll explore a call in that language, although the call is essentially the same in any language."
   ]
  },
  {
   "cell_type": "code",
   "execution_count": 15,
   "metadata": {
    "collapsed": false
   },
   "outputs": [
    {
     "data": {
      "text/plain": [
       "{'STATION': [{'ELEVATION': '4226',\n",
       "   'ID': '53',\n",
       "   'LATITUDE': '40.77069',\n",
       "   'LONGITUDE': '-111.96503',\n",
       "   'MNET_ID': '1',\n",
       "   'NAME': 'Salt Lake City, Salt Lake City International Airport',\n",
       "   'OBSERVATIONS': {'air_temp_value_1': {'date_time': '2016-04-10T14:50:00Z',\n",
       "     'value': 55.4},\n",
       "    'altimeter_value_1': {'date_time': '2016-04-10T14:50:00Z', 'value': 29.85},\n",
       "    'ceiling_value_1': {'date_time': '2016-04-10T14:50:00Z', 'value': 21000.0},\n",
       "    'cloud_layer_1_code_value_1': {'date_time': '2016-04-10T14:50:00Z',\n",
       "     'value': 606.0},\n",
       "    'cloud_layer_2_code_value_1': {'date_time': '2016-04-10T14:50:00Z',\n",
       "     'value': 802.0},\n",
       "    'cloud_layer_3_code_value_1': {'date_time': '2016-04-10T14:50:00Z',\n",
       "     'value': 2103.0},\n",
       "    'dew_point_temperature_value_1': {'date_time': '2016-04-10T14:50:00Z',\n",
       "     'value': 39.2},\n",
       "    'pressure_tendency_value_1': {'date_time': '2016-04-10T14:50:00Z',\n",
       "     'value': 3002.0},\n",
       "    'relative_humidity_value_1': {'date_time': '2016-04-10T14:50:00Z',\n",
       "     'value': 54.35},\n",
       "    'sea_level_pressure_value_1': {'date_time': '2016-04-10T14:50:00Z',\n",
       "     'value': 1007.5},\n",
       "    'visibility_value_1': {'date_time': '2016-04-10T14:50:00Z', 'value': 10.0},\n",
       "    'wind_direction_value_1': {'date_time': '2016-04-10T14:50:00Z',\n",
       "     'value': 180.0},\n",
       "    'wind_gust_value_1': {'date_time': '2016-04-10T14:30:00Z', 'value': 18.0},\n",
       "    'wind_speed_value_1': {'date_time': '2016-04-10T14:50:00Z',\n",
       "     'value': 14.0}},\n",
       "   'PERIOD_OF_RECORD': {'end': '', 'start': ''},\n",
       "   'SENSOR_VARIABLES': {'air_temp': {'air_temp_value_1': {'period_of_record': {'end': '',\n",
       "       'start': ''},\n",
       "      'position': ''}},\n",
       "    'altimeter': {'altimeter_value_1': {'period_of_record': {'end': '',\n",
       "       'start': ''},\n",
       "      'position': ''}},\n",
       "    'ceiling': {'ceiling_value_1': {'period_of_record': {'end': '',\n",
       "       'start': ''},\n",
       "      'position': ''}},\n",
       "    'cloud_layer_1_code': {'cloud_layer_1_code_value_1': {'period_of_record': {'end': '',\n",
       "       'start': ''},\n",
       "      'position': ''}},\n",
       "    'cloud_layer_2_code': {'cloud_layer_2_code_value_1': {'period_of_record': {'end': '',\n",
       "       'start': ''},\n",
       "      'position': ''}},\n",
       "    'cloud_layer_3_code': {'cloud_layer_3_code_value_1': {'period_of_record': {'end': '',\n",
       "       'start': ''},\n",
       "      'position': ''}},\n",
       "    'dew_point_temperature': {'dew_point_temperature_value_1': {'period_of_record': {'end': '',\n",
       "       'start': ''},\n",
       "      'position': ''}},\n",
       "    'pressure_tendency': {'pressure_tendency_value_1': {'period_of_record': {'end': '',\n",
       "       'start': ''},\n",
       "      'position': ''}},\n",
       "    'relative_humidity': {'relative_humidity_value_1': {'period_of_record': {'end': '',\n",
       "       'start': ''},\n",
       "      'position': ''}},\n",
       "    'sea_level_pressure': {'sea_level_pressure_value_1': {'period_of_record': {'end': '',\n",
       "       'start': ''},\n",
       "      'position': ''}},\n",
       "    'visibility': {'visibility_value_1': {'period_of_record': {'end': '',\n",
       "       'start': ''},\n",
       "      'position': ''}},\n",
       "    'wind_direction': {'wind_direction_value_1': {'period_of_record': {'end': '',\n",
       "       'start': ''},\n",
       "      'position': ''}},\n",
       "    'wind_gust': {'wind_gust_value_1': {'period_of_record': {'end': '',\n",
       "       'start': ''},\n",
       "      'position': ''}},\n",
       "    'wind_speed': {'wind_speed_value_1': {'period_of_record': {'end': '',\n",
       "       'start': ''},\n",
       "      'position': ''}}},\n",
       "   'STATE': 'UT',\n",
       "   'STATUS': 'ACTIVE',\n",
       "   'STID': 'KSLC',\n",
       "   'TIMEZONE': 'America/Denver'}],\n",
       " 'SUMMARY': {'DATA_PARSING_TIME': '0.571966171265 ms',\n",
       "  'DATA_QUERY_TIME': '2.29692459106 ms',\n",
       "  'METADATA_RESPONSE_TIME': '1.06501579285 ms',\n",
       "  'NUMBER_OF_OBJECTS': 1,\n",
       "  'RESPONSE_CODE': 1,\n",
       "  'RESPONSE_MESSAGE': 'OK',\n",
       "  'TOTAL_DATA_TIME': '2.87079811096 ms'},\n",
       " 'UNITS': {'air_temp': 'Fahrenheit',\n",
       "  'altimeter': 'INHG',\n",
       "  'ceiling': 'Feet',\n",
       "  'cloud_layer_1_code': 'code',\n",
       "  'cloud_layer_2_code': 'code',\n",
       "  'cloud_layer_3_code': 'code',\n",
       "  'dew_point_temperature': 'Fahrenheit',\n",
       "  'pressure_tendency': 'code',\n",
       "  'relative_humidity': '%',\n",
       "  'sea_level_pressure': 'Millibars',\n",
       "  'visibility': 'Statute miles',\n",
       "  'wind_direction': 'Degrees',\n",
       "  'wind_gust': 'knots',\n",
       "  'wind_speed': 'knots'}}"
      ]
     },
     "execution_count": 15,
     "metadata": {},
     "output_type": "execute_result"
    }
   ],
   "source": [
    "import urllib.request\n",
    "import json\n",
    "\n",
    "resp = urllib.request.urlopen('http://api.mesowest.net/v2/stations/latest?stid=kslc&token=demotoken&within=60&units=english').read()\n",
    "stationJSON = json.loads(resp.decode('utf-8'))\n",
    "stationJSON"
   ]
  },
  {
   "cell_type": "markdown",
   "metadata": {},
   "source": [
    "### Cool, so what just happened?"
   ]
  },
  {
   "cell_type": "markdown",
   "metadata": {},
   "source": [
    "In the first two lines above, we imported the libraries necessary to make web requests and work with JSON data in Python."
   ]
  },
  {
   "cell_type": "code",
   "execution_count": 16,
   "metadata": {
    "collapsed": true
   },
   "outputs": [],
   "source": [
    "import urllib.request\n",
    "import json\n",
    "# These are just library imports that don't do anything yet."
   ]
  },
  {
   "cell_type": "markdown",
   "metadata": {},
   "source": [
    "In the next line, we create a variable called `resp` that contains a network object of the response from the URL we are requesting."
   ]
  },
  {
   "cell_type": "code",
   "execution_count": 17,
   "metadata": {
    "collapsed": true
   },
   "outputs": [],
   "source": [
    "resp = urllib.request.urlopen('http://api.mesowest.net/v2/stations/latest?stid=kslc&token=demotoken&within=60&units=english').read()\n",
    "# This uses the urlopen() function from the urllib.request library to create a request object from the URL given."
   ]
  },
  {
   "cell_type": "markdown",
   "metadata": {},
   "source": [
    "Finally, we decode the object and deserialize it from JSON to a Python object."
   ]
  },
  {
   "cell_type": "code",
   "execution_count": 18,
   "metadata": {
    "collapsed": true
   },
   "outputs": [],
   "source": [
    "stationJSON = json.loads(resp.decode('utf-8'))"
   ]
  },
  {
   "cell_type": "markdown",
   "metadata": {},
   "source": [
    "To print a variable at any time in IPython, just type the name of the variable in the cell."
   ]
  },
  {
   "cell_type": "code",
   "execution_count": 19,
   "metadata": {
    "collapsed": false
   },
   "outputs": [
    {
     "data": {
      "text/plain": [
       "{'STATION': [{'ELEVATION': '4226',\n",
       "   'ID': '53',\n",
       "   'LATITUDE': '40.77069',\n",
       "   'LONGITUDE': '-111.96503',\n",
       "   'MNET_ID': '1',\n",
       "   'NAME': 'Salt Lake City, Salt Lake City International Airport',\n",
       "   'OBSERVATIONS': {'air_temp_value_1': {'date_time': '2016-04-10T14:50:00Z',\n",
       "     'value': 55.4},\n",
       "    'altimeter_value_1': {'date_time': '2016-04-10T14:50:00Z', 'value': 29.85},\n",
       "    'ceiling_value_1': {'date_time': '2016-04-10T14:50:00Z', 'value': 21000.0},\n",
       "    'cloud_layer_1_code_value_1': {'date_time': '2016-04-10T14:50:00Z',\n",
       "     'value': 606.0},\n",
       "    'cloud_layer_2_code_value_1': {'date_time': '2016-04-10T14:50:00Z',\n",
       "     'value': 802.0},\n",
       "    'cloud_layer_3_code_value_1': {'date_time': '2016-04-10T14:50:00Z',\n",
       "     'value': 2103.0},\n",
       "    'dew_point_temperature_value_1': {'date_time': '2016-04-10T14:50:00Z',\n",
       "     'value': 39.2},\n",
       "    'pressure_tendency_value_1': {'date_time': '2016-04-10T14:50:00Z',\n",
       "     'value': 3002.0},\n",
       "    'relative_humidity_value_1': {'date_time': '2016-04-10T14:50:00Z',\n",
       "     'value': 54.35},\n",
       "    'sea_level_pressure_value_1': {'date_time': '2016-04-10T14:50:00Z',\n",
       "     'value': 1007.5},\n",
       "    'visibility_value_1': {'date_time': '2016-04-10T14:50:00Z', 'value': 10.0},\n",
       "    'wind_direction_value_1': {'date_time': '2016-04-10T14:50:00Z',\n",
       "     'value': 180.0},\n",
       "    'wind_gust_value_1': {'date_time': '2016-04-10T14:30:00Z', 'value': 18.0},\n",
       "    'wind_speed_value_1': {'date_time': '2016-04-10T14:50:00Z',\n",
       "     'value': 14.0}},\n",
       "   'PERIOD_OF_RECORD': {'end': '', 'start': ''},\n",
       "   'SENSOR_VARIABLES': {'air_temp': {'air_temp_value_1': {'period_of_record': {'end': '',\n",
       "       'start': ''},\n",
       "      'position': ''}},\n",
       "    'altimeter': {'altimeter_value_1': {'period_of_record': {'end': '',\n",
       "       'start': ''},\n",
       "      'position': ''}},\n",
       "    'ceiling': {'ceiling_value_1': {'period_of_record': {'end': '',\n",
       "       'start': ''},\n",
       "      'position': ''}},\n",
       "    'cloud_layer_1_code': {'cloud_layer_1_code_value_1': {'period_of_record': {'end': '',\n",
       "       'start': ''},\n",
       "      'position': ''}},\n",
       "    'cloud_layer_2_code': {'cloud_layer_2_code_value_1': {'period_of_record': {'end': '',\n",
       "       'start': ''},\n",
       "      'position': ''}},\n",
       "    'cloud_layer_3_code': {'cloud_layer_3_code_value_1': {'period_of_record': {'end': '',\n",
       "       'start': ''},\n",
       "      'position': ''}},\n",
       "    'dew_point_temperature': {'dew_point_temperature_value_1': {'period_of_record': {'end': '',\n",
       "       'start': ''},\n",
       "      'position': ''}},\n",
       "    'pressure_tendency': {'pressure_tendency_value_1': {'period_of_record': {'end': '',\n",
       "       'start': ''},\n",
       "      'position': ''}},\n",
       "    'relative_humidity': {'relative_humidity_value_1': {'period_of_record': {'end': '',\n",
       "       'start': ''},\n",
       "      'position': ''}},\n",
       "    'sea_level_pressure': {'sea_level_pressure_value_1': {'period_of_record': {'end': '',\n",
       "       'start': ''},\n",
       "      'position': ''}},\n",
       "    'visibility': {'visibility_value_1': {'period_of_record': {'end': '',\n",
       "       'start': ''},\n",
       "      'position': ''}},\n",
       "    'wind_direction': {'wind_direction_value_1': {'period_of_record': {'end': '',\n",
       "       'start': ''},\n",
       "      'position': ''}},\n",
       "    'wind_gust': {'wind_gust_value_1': {'period_of_record': {'end': '',\n",
       "       'start': ''},\n",
       "      'position': ''}},\n",
       "    'wind_speed': {'wind_speed_value_1': {'period_of_record': {'end': '',\n",
       "       'start': ''},\n",
       "      'position': ''}}},\n",
       "   'STATE': 'UT',\n",
       "   'STATUS': 'ACTIVE',\n",
       "   'STID': 'KSLC',\n",
       "   'TIMEZONE': 'America/Denver'}],\n",
       " 'SUMMARY': {'DATA_PARSING_TIME': '0.872850418091 ms',\n",
       "  'DATA_QUERY_TIME': '2.54607200623 ms',\n",
       "  'METADATA_RESPONSE_TIME': '0.952005386353 ms',\n",
       "  'NUMBER_OF_OBJECTS': 1,\n",
       "  'RESPONSE_CODE': 1,\n",
       "  'RESPONSE_MESSAGE': 'OK',\n",
       "  'TOTAL_DATA_TIME': '3.42202186584 ms'},\n",
       " 'UNITS': {'air_temp': 'Fahrenheit',\n",
       "  'altimeter': 'INHG',\n",
       "  'ceiling': 'Feet',\n",
       "  'cloud_layer_1_code': 'code',\n",
       "  'cloud_layer_2_code': 'code',\n",
       "  'cloud_layer_3_code': 'code',\n",
       "  'dew_point_temperature': 'Fahrenheit',\n",
       "  'pressure_tendency': 'code',\n",
       "  'relative_humidity': '%',\n",
       "  'sea_level_pressure': 'Millibars',\n",
       "  'visibility': 'Statute miles',\n",
       "  'wind_direction': 'Degrees',\n",
       "  'wind_gust': 'knots',\n",
       "  'wind_speed': 'knots'}}"
      ]
     },
     "execution_count": 19,
     "metadata": {},
     "output_type": "execute_result"
    }
   ],
   "source": [
    "stationJSON"
   ]
  },
  {
   "cell_type": "markdown",
   "metadata": {},
   "source": [
    "### Now we have a Python 'object'. This object is really just a dictionary, which is easy to parse. To parse it effectively, we need to know the structure of the response."
   ]
  },
  {
   "cell_type": "markdown",
   "metadata": {},
   "source": [
    "Looking at the above, we see there are three keys in the top-level dictionary: `STATION`, `UNITS`, and `SUMMARY`. `UNITS` contains information on the units for the variables returned, `SUMMARY` details times, error messages, and response codes, and `STATION` contains all of the information about the stations we requested. Note that, for other services, these top-level keys may be different. "
   ]
  },
  {
   "cell_type": "markdown",
   "metadata": {},
   "source": [
    "Inside the `STATION` key there will always be a list (of stations), even if only one station is returned. For that reason, you need to specify an index when accessing data in the list. For example, to get the name of the first station in the response, we would say:"
   ]
  },
  {
   "cell_type": "code",
   "execution_count": 20,
   "metadata": {
    "collapsed": false
   },
   "outputs": [
    {
     "data": {
      "text/plain": [
       "'Salt Lake City, Salt Lake City International Airport'"
      ]
     },
     "execution_count": 20,
     "metadata": {},
     "output_type": "execute_result"
    }
   ],
   "source": [
    "stationJSON['STATION'][0]['NAME']"
   ]
  },
  {
   "cell_type": "markdown",
   "metadata": {},
   "source": [
    "When you have a list of more than one station, you could easily iterate over the `STATION` object just like any other list."
   ]
  },
  {
   "cell_type": "markdown",
   "metadata": {},
   "source": [
    "### Information about the observations found at a particular station is always in the `OBSERVATIONS` key. In this case, we can access that information like:"
   ]
  },
  {
   "cell_type": "code",
   "execution_count": 22,
   "metadata": {
    "collapsed": false
   },
   "outputs": [
    {
     "data": {
      "text/plain": [
       "{'air_temp_value_1': {'date_time': '2016-04-10T14:50:00Z', 'value': 55.4},\n",
       " 'altimeter_value_1': {'date_time': '2016-04-10T14:50:00Z', 'value': 29.85},\n",
       " 'ceiling_value_1': {'date_time': '2016-04-10T14:50:00Z', 'value': 21000.0},\n",
       " 'cloud_layer_1_code_value_1': {'date_time': '2016-04-10T14:50:00Z',\n",
       "  'value': 606.0},\n",
       " 'cloud_layer_2_code_value_1': {'date_time': '2016-04-10T14:50:00Z',\n",
       "  'value': 802.0},\n",
       " 'cloud_layer_3_code_value_1': {'date_time': '2016-04-10T14:50:00Z',\n",
       "  'value': 2103.0},\n",
       " 'dew_point_temperature_value_1': {'date_time': '2016-04-10T14:50:00Z',\n",
       "  'value': 39.2},\n",
       " 'pressure_tendency_value_1': {'date_time': '2016-04-10T14:50:00Z',\n",
       "  'value': 3002.0},\n",
       " 'relative_humidity_value_1': {'date_time': '2016-04-10T14:50:00Z',\n",
       "  'value': 54.35},\n",
       " 'sea_level_pressure_value_1': {'date_time': '2016-04-10T14:50:00Z',\n",
       "  'value': 1007.5},\n",
       " 'visibility_value_1': {'date_time': '2016-04-10T14:50:00Z', 'value': 10.0},\n",
       " 'wind_direction_value_1': {'date_time': '2016-04-10T14:50:00Z',\n",
       "  'value': 180.0},\n",
       " 'wind_gust_value_1': {'date_time': '2016-04-10T14:30:00Z', 'value': 18.0},\n",
       " 'wind_speed_value_1': {'date_time': '2016-04-10T14:50:00Z', 'value': 14.0}}"
      ]
     },
     "execution_count": 22,
     "metadata": {},
     "output_type": "execute_result"
    }
   ],
   "source": [
    "stationJSON['STATION'][0]['OBSERVATIONS']"
   ]
  },
  {
   "cell_type": "markdown",
   "metadata": {},
   "source": [
    "### We've seen how to interact with the data by accessing the appropriate keys (via drilling down through the dictionaries/lists). Let's put this all together to describe the weather at KSLC."
   ]
  },
  {
   "cell_type": "code",
   "execution_count": 32,
   "metadata": {
    "collapsed": false
   },
   "outputs": [
    {
     "data": {
      "text/plain": [
       "'The station at Salt Lake City, Salt Lake City International Airport is reporting an air temperature of 55.4 F, wind speed of 14.0 mph, and relative humidity of 39.2%.'"
      ]
     },
     "execution_count": 32,
     "metadata": {},
     "output_type": "execute_result"
    }
   ],
   "source": [
    "stn = stationJSON['STATION'][0]\n",
    "wx_cond = \"The station at \" + stn['NAME'] + ' is reporting an air temperature of ' + \\\n",
    "          str(stn['OBSERVATIONS']['air_temp_value_1']['value']) + ' F, wind speed of ' + \\\n",
    "          str(stn['OBSERVATIONS']['wind_speed_value_1']['value']) + ' mph, and relative humidity of ' + \\\n",
    "          str(stn['OBSERVATIONS']['dew_point_temperature_value_1']['value']) + '%.'\n",
    "wx_cond"
   ]
  }
 ],
 "metadata": {
  "kernelspec": {
   "display_name": "Python 3",
   "language": "python",
   "name": "python3"
  },
  "language_info": {
   "codemirror_mode": {
    "name": "ipython",
    "version": 3
   },
   "file_extension": ".py",
   "mimetype": "text/x-python",
   "name": "python",
   "nbconvert_exporter": "python",
   "pygments_lexer": "ipython3",
   "version": "3.5.0rc4"
  }
 },
 "nbformat": 4,
 "nbformat_minor": 0
}
