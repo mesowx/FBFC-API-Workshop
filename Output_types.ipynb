{
 "cells": [
  {
   "cell_type": "markdown",
   "metadata": {},
   "source": [
    "# Output Types"
   ]
  },
  {
   "cell_type": "markdown",
   "metadata": {
    "collapsed": true
   },
   "source": [
    "The API is able to return different file formats to suite the needs of our users. Although JSON is our preferred means of disseminating data at this time, we allow CSV, XML, and even GeoJSON for various services. Let's explore these output types in greater detail. \n"
   ]
  },
  {
   "cell_type": "markdown",
   "metadata": {},
   "source": [
    "### We've already discussed the JSON output structure in the last notebook, so let's take a look at XML."
   ]
  },
  {
   "cell_type": "markdown",
   "metadata": {},
   "source": [
    "To change the output type of the data you're requesting to XML, add the `&output=xml` parameter to your query string. XML format is available for all services."
   ]
  },
  {
   "cell_type": "markdown",
   "metadata": {},
   "source": [
    "![Alt text](files/img/xmlresponse.png)\n"
   ]
  },
  {
   "cell_type": "markdown",
   "metadata": {},
   "source": [
    "You should notice that XML formatted responses are derived directly from the JSON responses, therefore they are the same collections of nested lists and objects. Nothing spooky here going on here. "
   ]
  },
  {
   "cell_type": "markdown",
   "metadata": {},
   "source": [
    "GeoJSON looks a bit different than the JSON and XML responses. For starters, most of the main keys have been renamed to conform to the GeoJSON standard. Nested dictionaries are also removed from the response and the `SUMMARY` block is eliminated. We also add two keys which go to our classic webpages to support some of our clients that were interested in mapping our data using GeoJSON. Take a look at this query for KSLC:\n",
    "http://api.mesowest.net/v2/stations/latest?&stid=kslc&within=60&output=geojson&token=demotoken"
   ]
  },
  {
   "cell_type": "markdown",
   "metadata": {},
   "source": [
    "![Alt text](files/img/geojsonresponse.png)\n"
   ]
  },
  {
   "cell_type": "markdown",
   "metadata": {},
   "source": [
    "GeoJSON is only available for the timeseries, nearesttime, latest, and fires/metadata resources."
   ]
  },
  {
   "cell_type": "markdown",
   "metadata": {},
   "source": [
    "### Lastly, for queries of large amount of time-series data at a single station, we offer CSV format. We will likely expand our CSV offerings soon. "
   ]
  },
  {
   "cell_type": "markdown",
   "metadata": {},
   "source": [
    "Let's take a look at this query's response: http://api.mesowest.net/v2/stations/timeseries?stid=kslc&start=201307010000&end=201307020000&obtimezone=local&token=demotoken&output=csv"
   ]
  },
  {
   "cell_type": "markdown",
   "metadata": {},
   "source": [
    "![Alt text](files/img/csvresponse.png)\n"
   ]
  },
  {
   "cell_type": "markdown",
   "metadata": {},
   "source": [
    "### We've briefly discussed the API's output formats in this notebook. In our examples, we'll only work with JSON format to avoid confusion (and also because JSON is much prettier)."
   ]
  }
 ],
 "metadata": {
  "kernelspec": {
   "display_name": "Python 3",
   "language": "python",
   "name": "python3"
  },
  "language_info": {
   "codemirror_mode": {
    "name": "ipython",
    "version": 3
   },
   "file_extension": ".py",
   "mimetype": "text/x-python",
   "name": "python",
   "nbconvert_exporter": "python",
   "pygments_lexer": "ipython3",
   "version": "3.5.0rc4"
  }
 },
 "nbformat": 4,
 "nbformat_minor": 0
}
