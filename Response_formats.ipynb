{
 "cells": [
  {
   "cell_type": "markdown",
   "metadata": {},
   "source": [
    "# Response Formats"
   ]
  },
  {
   "cell_type": "markdown",
   "metadata": {},
   "source": [
    "This API produces data in the JSON format by default. Fortunately, JSON has native decoders in a large number of programming languages, so you only need to know the structure of the returned data to use it. Each API resource returns a different structure of JSON depending on the needs of that resource. \n",
    "\n",
    "Result sets have 2 or 3 elements, the result, which can have various names, a possible additional element with reference information, and the `SUMMARY`. All resources except for the /auth and /variables use the same basic JSON structure, which is comprised of a single object. This object has various elements (keys), finishing with a `SUMMARY` key. The `SUMMARY` object details API performance and status for the query you made."
   ]
  },
  {
   "cell_type": "markdown",
   "metadata": {},
   "source": [
    "![Alt text](files/img/responseformats1.png)\n"
   ]
  },
  {
   "cell_type": "markdown",
   "metadata": {
    "collapsed": true
   },
   "source": [
    "### For the large majority of our users, the `/stations/` service is by far the most popular resource. For `/stations/` services, the top-level keys look like below:"
   ]
  },
  {
   "cell_type": "markdown",
   "metadata": {},
   "source": [
    "![Alt text](files/img/responseformats2.png)\n"
   ]
  },
  {
   "cell_type": "markdown",
   "metadata": {},
   "source": [
    "`STATION` is a LIST object which contains a dictionary of information for each station returned. Metadata is always displayed at the first level within the `STATION` key like so:"
   ]
  },
  {
   "cell_type": "markdown",
   "metadata": {},
   "source": [
    "![Alt text](files/img/responseformats3.png)\n"
   ]
  },
  {
   "cell_type": "markdown",
   "metadata": {},
   "source": [
    "When a station returns observational, latency, or statistics data, the resulting values will be displayed in dictionaries at the same level as the metadata for that station, like the above. Also note that when observational data is returned, the `UNITS` dictionary is added to the top level. This dictionary is just key-value pairs of station variables that reported observations and their respective units."
   ]
  },
  {
   "cell_type": "markdown",
   "metadata": {},
   "source": [
    "### Go ahead and try out a few queries in your browser. We've listed some examples here:\n",
    "api.mesowest.net/v2/stations/nearesttime?&attime=201511020000&token=demotoken&state=de&within=60\n",
    "\n",
    "api.mesowest.net/v2/stations/precip?stid=kcll&start=201604021300&end=201604040000&token=demotoken"
   ]
  },
  {
   "cell_type": "markdown",
   "metadata": {},
   "source": [
    "### The trickiest part of the JSON response is the `OBSERVATIONS` element. \n",
    "\n",
    "`OBSERVATIONS` is an object/dictionary where the keys are variable set names, and the values are lists. The variable names in `OBSERVATIONS` (aka the keys of the `OBSERVATIONS` object) are the names in SENSOR_VARIABLES under the variable name. The `OBSERVATIONS` set may be different depending on which `/stations/` you request. "
   ]
  },
  {
   "cell_type": "markdown",
   "metadata": {},
   "source": [
    "For queries to the `stations/latest?`, `/precip?`, and `/nearesttime?` resources you can expect to single observations for each variable at each station like:"
   ]
  },
  {
   "cell_type": "markdown",
   "metadata": {},
   "source": [
    "![Alt text](files/img/responseformats4.png)\n"
   ]
  },
  {
   "cell_type": "markdown",
   "metadata": {},
   "source": [
    "For queries to `stations/timeseries?` and `stations/climatology?`, multiple observations will be returned for each variable at each station. In this case, a single set of date times are provided. "
   ]
  },
  {
   "cell_type": "markdown",
   "metadata": {},
   "source": [
    "![Alt text](files/img/responseformats5.png)\n"
   ]
  },
  {
   "cell_type": "markdown",
   "metadata": {},
   "source": [
    "There are many other response formats for all of the different resources we expose. If you are interested in further reference, take a look at http://synopticlabs.org/api/mesonet/reference/#JSON_Response_Format. Alternatively, you could explore our response structure at your leisure using an addon like JSONView for Chrome, which allows you to see JSON all pretty like the above screenshots."
   ]
  }
 ],
 "metadata": {
  "kernelspec": {
   "display_name": "Python 3",
   "language": "python",
   "name": "python3"
  },
  "language_info": {
   "codemirror_mode": {
    "name": "ipython",
    "version": 3
   },
   "file_extension": ".py",
   "mimetype": "text/x-python",
   "name": "python",
   "nbconvert_exporter": "python",
   "pygments_lexer": "ipython3",
   "version": "3.5.0rc4"
  }
 },
 "nbformat": 4,
 "nbformat_minor": 0
}
