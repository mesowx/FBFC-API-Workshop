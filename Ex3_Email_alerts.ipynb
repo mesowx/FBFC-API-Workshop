{
 "cells": [
  {
   "cell_type": "markdown",
   "metadata": {},
   "source": [
    "# Ex. 3: Creating e-mail alerts for changing fire weather conditions"
   ]
  },
  {
   "cell_type": "markdown",
   "metadata": {},
   "source": [
    "Now that we've explored using the data in some elementary visualization examples, let's consider a script that allows us to send e-mail alerts when some stations meet specific conditions. For this example, I'll send an alert e-mail when winds are above 15 mph and relative humidity is less than 30% at stations in the Southern GACC in the past hour. "
   ]
  },
  {
   "cell_type": "markdown",
   "metadata": {},
   "source": [
    "##### Libraries Used:\n",
    "- smtplib\n",
    "- urllib\n",
    "- json\n",
    "- email\n",
    "- time"
   ]
  },
  {
   "cell_type": "markdown",
   "metadata": {},
   "source": [
    "### Constructing our query looks like:"
   ]
  },
  {
   "cell_type": "markdown",
   "metadata": {},
   "source": [
    "http://api.mesowest.net/v2/stations/nearesttime?&token=yo&gacc=sacc&within=60&vars=relative_humidity,wind_speed&units=english&timeformat=%H:%M&obtimezone=local\n",
    "\n",
    "Where we are specifically targetting the Southern GACC RAWS within the last 60 minutes for only the relative humidity and wind speed variables in English units. "
   ]
  },
  {
   "cell_type": "markdown",
   "metadata": {},
   "source": [
    "### Like before, our API calling block is:"
   ]
  },
  {
   "cell_type": "code",
   "execution_count": 74,
   "metadata": {
    "collapsed": true
   },
   "outputs": [],
   "source": [
    "import urllib.request\n",
    "import json\n",
    "\n",
    "q = 'http://api.mesowest.net/v2/stations/nearesttime?&token=yo&gacc=sacc&within=60&vars=relative_humidity,wind_speed&units=english&timeformat=%H:%M&obtimezone=local'\n",
    "# Open the url and read the contents\n",
    "resp = urllib.request.urlopen(q).read()\n",
    "# Decode and make the content a JSON object\n",
    "stationJSON = json.loads(resp.decode('utf-8'))\n",
    "# stationJSON"
   ]
  },
  {
   "cell_type": "markdown",
   "metadata": {},
   "source": [
    "### Setting up our data is also a lot like the last example except for two things. "
   ]
  },
  {
   "cell_type": "markdown",
   "metadata": {},
   "source": [
    "We would like to only work with stations that meet our criteria and filter out stations which don't report both variables. We'll handle both of these cases at the same time to avoid redundancy"
   ]
  },
  {
   "cell_type": "code",
   "execution_count": 75,
   "metadata": {
    "collapsed": false
   },
   "outputs": [],
   "source": [
    "stations = []\n",
    "for station in stationJSON['STATION']:\n",
    "    try:\n",
    "        if station['OBSERVATIONS']['wind_speed_value_1']['value'] > 15 and station['OBSERVATIONS']['relative_humidity_value_1']['value'] < 30:\n",
    "            stations.append([station['STID'], station['LATITUDE'], station['LONGITUDE'], station['STATE'],\n",
    "                 station['OBSERVATIONS']['wind_speed_value_1']['value'], \n",
    "                 station['OBSERVATIONS']['relative_humidity_value_1']['value'],\n",
    "                 station['OBSERVATIONS']['relative_humidity_value_1']['date_time']])\n",
    "    except KeyError:\n",
    "        pass\n",
    "# stations"
   ]
  },
  {
   "cell_type": "markdown",
   "metadata": {},
   "source": [
    "### Great! With data in hand, let's build the body of our e-mail."
   ]
  },
  {
   "cell_type": "markdown",
   "metadata": {},
   "source": [
    "Building out our email is pretty straightforward. I add a little description and then each station is a new line in our email with the observed conditions. "
   ]
  },
  {
   "cell_type": "code",
   "execution_count": 76,
   "metadata": {
    "collapsed": false
   },
   "outputs": [],
   "source": [
    "message = 'The below stations reported winds greater than 15 mph and relative humidity lower than 30% in the last hour. Times are local to the user. \\r\\n \\r\\n'\n",
    "for station in stations:\n",
    "    message += str(station[0]) + ', located in ' + station[3] + ' at ' + str(station[1]) + ',' + str(station[2]) + ', reports wind at ' + str(station[4]) + ' mph and RH at ' + str(station[5]) + '%. Observed time: ' + str(station[6]) + '\\r\\n'\n",
    "message += '\\r\\n Love Always,\\r\\n \\r\\n Robot Emailer'\n",
    "# message"
   ]
  },
  {
   "cell_type": "markdown",
   "metadata": {},
   "source": [
    "### Now the fun part. Sending the e-mail. We'll need to import some built-in libraries to bring it all together."
   ]
  },
  {
   "cell_type": "markdown",
   "metadata": {},
   "source": [
    "I've went ahead and created an email address for us to use at fbfc.mwslapi@gmail.com. The password is studentFBFC. I'll delete this account after the conference is over so feel free to play around with it for right now. "
   ]
  },
  {
   "cell_type": "code",
   "execution_count": 77,
   "metadata": {
    "collapsed": false
   },
   "outputs": [
    {
     "data": {
      "text/plain": [
       "(221, b'2.0.0 closing connection m10sm13607387pfi.32 - gsmtp')"
      ]
     },
     "execution_count": 77,
     "metadata": {},
     "output_type": "execute_result"
    }
   ],
   "source": [
    "import smtplib\n",
    "from email.mime.text import MIMEText\n",
    "from time import strftime \n",
    "\n",
    "# define our content\n",
    "recipients = [\"fbfc.mwslapi@gmail.com\"]\n",
    "sender = \"fbfc.mwslapi@gmail.com\"\n",
    "subject = strftime(\"%Y-%m-%d %H:%M:%S\") + ' Fire Weather Stations'  # Try adding your name here to keep track\n",
    "\n",
    "# make up the message\n",
    "msg = MIMEText(message)  # this is the beautified list of stations\n",
    "msg['Subject'] = subject\n",
    "msg['From'] = sender\n",
    "msg['To'] = \", \".join(recipients)  # Your recipients must always be a list\n",
    "\n",
    "# sending\n",
    "session = smtplib.SMTP('smtp.gmail.com', 587)\n",
    "session.starttls()\n",
    "session.login(sender, 'studentFBFC')\n",
    "send_it = session.sendmail(sender, recipients, msg.as_string())\n",
    "session.quit()"
   ]
  },
  {
   "cell_type": "markdown",
   "metadata": {},
   "source": [
    "You should see an e-mail show up in the inbox of the fbfc.mwslapi@gmail.com account. Try sending an e-mail to yourself!"
   ]
  }
 ],
 "metadata": {
  "kernelspec": {
   "display_name": "Python 3",
   "language": "python",
   "name": "python3"
  },
  "language_info": {
   "codemirror_mode": {
    "name": "ipython",
    "version": 3
   },
   "file_extension": ".py",
   "mimetype": "text/x-python",
   "name": "python",
   "nbconvert_exporter": "python",
   "pygments_lexer": "ipython3",
   "version": "3.5.0rc4"
  }
 },
 "nbformat": 4,
 "nbformat_minor": 0
}
