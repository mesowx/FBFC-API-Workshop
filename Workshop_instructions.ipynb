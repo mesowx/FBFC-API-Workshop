{
 "cells": [
  {
   "cell_type": "markdown",
   "metadata": {},
   "source": [
    "# Hello! \n",
    "\n",
    "### Thanks for signing up for the MesoWest/SynopticLabs API workshop at the Fire Behavior and Fuels Conference. \n",
    "\n",
    "### In this course, we'll explore the API in great detail, working through examples and some interactive sessions to ensure you know how to best use our data. "
   ]
  },
  {
   "cell_type": "markdown",
   "metadata": {},
   "source": [
    "This course assumes you have some background in programming. If you're not familar with Python or JavaScript, that's okay! We've tried to use simple syntax to keep the focus on the data and the resulting demo. We will be using Jupyter/iPython notebooks (http://jupyter.org/) when working in Python and JsFiddle (https://jsfiddle.net/) in our JS demo. These tools allow us to execute our code in real-time and work through examples more interactively. "
   ]
  },
  {
   "cell_type": "markdown",
   "metadata": {},
   "source": [
    "### Oh, by the way."
   ]
  },
  {
   "cell_type": "markdown",
   "metadata": {},
   "source": [
    "All of our examples, schedule, and instructions can be found on Github at https://github.com/mesowx/FBFC-API-Workshop. You can follow along online at that link (non-interactive) or clone the repo by making sure you have git installed on your computer and then typing `git clone https://github.com/mesowx/FBFC-API-Workshop.git` in to a command prompt. Come to the workshop at least 30 minutes before the start if you need help setting this up. "
   ]
  },
  {
   "cell_type": "markdown",
   "metadata": {},
   "source": [
    "### Course Requirements: "
   ]
  },
  {
   "cell_type": "markdown",
   "metadata": {},
   "source": [
    "In order to get the most out of this course, we've tried to use modern libraries and teaching solutions. This course requires your computer to have the following installed:\n",
    "\n",
    "- Python 3.4/3.5 \n",
    "- A web browser\n",
    "- The following python libraries: IPython, CartoPy, Bokeh, matplotlib and their dependencies. All other libraries should be built-in to your python installation\n",
    "\n",
    "The best way to satisfy the course requirements is to install the Anaconda package/environment manager at https://www.continuum.io/downloads. \n",
    "\n",
    "Once you complete that download, open a command prompt and verify your anaconda installation by typing `conda info`. If the current version comes up, you're good to go. Now we can set up a clean working environment! Simply type `conda create -n apiworkshop anaconda` to create a new virtual environment that installs all of the common python libraries. Once that process is completed, activate this environment by typing `source activate apiworkshop`. Now, run `conda install -c scitools cartopy` and `conda install bokeh` to fulfill the course requirements. Lastly, navigate to your git clone of the workshop repo, and type `ipython notebook`. Your notebooks should be good to go!"
   ]
  },
  {
   "cell_type": "markdown",
   "metadata": {},
   "source": [
    "### Cool, so what are these Jupyter/iPython notebooks anyway?"
   ]
  },
  {
   "cell_type": "markdown",
   "metadata": {},
   "source": [
    "Simply put, they are interactive, shareable notebooks containing live code and visualizations. These notebooks are perfect for teaching, as they allow us to add markup and visuals right in line with our code. You're viewing all of this in a Jupyter notebook!\n",
    "\n",
    "The notebook consists of cells which contain code or markdown. These cells are ran when you press play on the top menu. Like the python interpreter, these cells are executed line by line, so always run cells in order from top to bottom."
   ]
  },
  {
   "cell_type": "markdown",
   "metadata": {},
   "source": [
    "### Questions? Problems?\n",
    "\n",
    "Before the conference: shoot Josh an e-mail at joshua.m.clark@utah.edu or call 502-295-8895.\n",
    "\n",
    "Before the workshop: We'll be setting up the workshop at 7am on Monday. Stop by early and we'll work on getting you set up with the course requirements."
   ]
  }
 ],
 "metadata": {
  "kernelspec": {
   "display_name": "Python 3",
   "language": "python",
   "name": "python3"
  },
  "language_info": {
   "codemirror_mode": {
    "name": "ipython",
    "version": 3
   },
   "file_extension": ".py",
   "mimetype": "text/x-python",
   "name": "python",
   "nbconvert_exporter": "python",
   "pygments_lexer": "ipython3",
   "version": "3.5.0rc4"
  }
 },
 "nbformat": 4,
 "nbformat_minor": 0
}
