{
 "cells": [
  {
   "cell_type": "markdown",
   "metadata": {},
   "source": [
    "# Generating Keys "
   ]
  },
  {
   "cell_type": "markdown",
   "metadata": {},
   "source": [
    "The `http://api.mesowest.net/v2/auth?` service is used for managing and generating new tokens for use in your applications. We require that users provide tokens in their queries to protect the API from flagrant spam abuse like performing too many calls. We have no formal limits on how many calls may be requested over any given time, although we do monitor traffic because excessive querying impacts other users. "
   ]
  },
  {
   "cell_type": "markdown",
   "metadata": {},
   "source": [
    "Once you receive a key by signing up at http://synopticlabs.org/api/signup/, you should use this service to generate a new token for your app. "
   ]
  },
  {
   "cell_type": "markdown",
   "metadata": {},
   "source": [
    "### Generating a new token is easy.  Add the `&apikey=YOUR_API_KEY` parameter to the above URL.\n",
    "\n",
    "### For example:"
   ]
  },
  {
   "cell_type": "code",
   "execution_count": 5,
   "metadata": {
    "collapsed": false
   },
   "outputs": [
    {
     "data": {
      "text/plain": [
       "{'TOKEN': '846c54f742bb4ad4a2bf599af1caae55'}"
      ]
     },
     "execution_count": 5,
     "metadata": {},
     "output_type": "execute_result"
    }
   ],
   "source": [
    "import urllib.request\n",
    "import json\n",
    "\n",
    "q = 'http://api.mesowest.net/v2/auth?&apikey=KzsyOefR0QTjfhKc3b2S913UBhudUVHPyQa'\n",
    "# Open the url and read the contents\n",
    "resp = urllib.request.urlopen(q).read()\n",
    "# Decode and make the content a JSON object\n",
    "apiresponse = json.loads(resp.decode('utf-8'))\n",
    "\n",
    "# print API response\n",
    "apiresponse"
   ]
  },
  {
   "cell_type": "markdown",
   "metadata": {},
   "source": [
    "### The API responds with a new token that you will use in all of your requests. Every time you perform the above request, the API will generate a new token for you. "
   ]
  },
  {
   "cell_type": "markdown",
   "metadata": {},
   "source": [
    "This is helpful if you have multiple applications performing calls to the API or want to provide your users their own tokens off your key in case of abuse. "
   ]
  },
  {
   "cell_type": "markdown",
   "metadata": {},
   "source": [
    "### To see a list of your active tokens, add &list=1 to your request:"
   ]
  },
  {
   "cell_type": "code",
   "execution_count": 8,
   "metadata": {
    "collapsed": false
   },
   "outputs": [
    {
     "data": {
      "text/plain": [
       "{'TOKENS': ['2bd80e6822ab4f44816fc0f18828ba3c',\n",
       "  '846c54f742bb4ad4a2bf599af1caae55']}"
      ]
     },
     "execution_count": 8,
     "metadata": {},
     "output_type": "execute_result"
    }
   ],
   "source": [
    "q = 'http://api.mesowest.net/v2/auth?&apikey=KzsyOefR0QTjfhKc3b2S913UBhudUVHPyQa&list=1'\n",
    "# Open the url and read the contents\n",
    "resp = urllib.request.urlopen(q).read()\n",
    "# Decode and make the content a JSON object\n",
    "apiresponse = json.loads(resp.decode('utf-8'))\n",
    "\n",
    "# print API response\n",
    "apiresponse"
   ]
  },
  {
   "cell_type": "markdown",
   "metadata": {},
   "source": [
    "### To disable a token, provide the specific token to your request with the &disabletoken=? parameter:"
   ]
  },
  {
   "cell_type": "code",
   "execution_count": 9,
   "metadata": {
    "collapsed": false
   },
   "outputs": [
    {
     "data": {
      "text/plain": [
       "{'MESSAGE': 'Token 846c54f742bb4ad4a2bf599af1caae55 is disabled.'}"
      ]
     },
     "execution_count": 9,
     "metadata": {},
     "output_type": "execute_result"
    }
   ],
   "source": [
    "q = 'http://api.mesowest.net/v2/auth?&apikey=KzsyOefR0QTjfhKc3b2S913UBhudUVHPyQa&disabletoken=846c54f742bb4ad4a2bf599af1caae55'\n",
    "# Open the url and read the contents\n",
    "resp = urllib.request.urlopen(q).read()\n",
    "# Decode and make the content a JSON object\n",
    "apiresponse = json.loads(resp.decode('utf-8'))\n",
    "\n",
    "# print API response\n",
    "apiresponse"
   ]
  },
  {
   "cell_type": "markdown",
   "metadata": {},
   "source": [
    "### Like we mentioned before, tokens are added in your queries to any other resource. \n",
    "\n",
    "### For example:"
   ]
  },
  {
   "cell_type": "code",
   "execution_count": 10,
   "metadata": {
    "collapsed": false
   },
   "outputs": [
    {
     "data": {
      "text/plain": [
       "{'MNET': [{'ACTIVE_STATIONS': 2416,\n",
       "   'CATEGORY': '7',\n",
       "   'ID': '1',\n",
       "   'LAST_OBSERVATION': '2016-04-08T23:53:00Z',\n",
       "   'LONGNAME': 'National Weather Service/Federal Aviation Administration',\n",
       "   'PERCENT_ACTIVE': 74.64,\n",
       "   'PERCENT_REPORTING': 97.14,\n",
       "   'PERIOD_CHECKED': 120,\n",
       "   'REPORTING_STATIONS': 2347,\n",
       "   'SHORTNAME': 'NWS/FAA',\n",
       "   'TOTAL_STATIONS': 3237,\n",
       "   'URL': None},\n",
       "  {'ACTIVE_STATIONS': 2195,\n",
       "   'CATEGORY': '9',\n",
       "   'ID': '2',\n",
       "   'LAST_OBSERVATION': '2016-04-08T18:39:00Z',\n",
       "   'LONGNAME': 'Interagency Remote Automatic Weather Stations',\n",
       "   'PERCENT_ACTIVE': 70.17,\n",
       "   'PERCENT_REPORTING': 95.81,\n",
       "   'PERIOD_CHECKED': 90,\n",
       "   'REPORTING_STATIONS': 2103,\n",
       "   'SHORTNAME': 'RAWS',\n",
       "   'TOTAL_STATIONS': 3128,\n",
       "   'URL': None},\n",
       "  {'ACTIVE_STATIONS': 31,\n",
       "   'CATEGORY': '4',\n",
       "   'ID': '3',\n",
       "   'LAST_OBSERVATION': '2016-04-08T18:40:00Z',\n",
       "   'LONGNAME': 'U.S. Army Dugway Proving Grounds',\n",
       "   'PERCENT_ACTIVE': 100.0,\n",
       "   'PERCENT_REPORTING': 100.0,\n",
       "   'PERIOD_CHECKED': 30,\n",
       "   'REPORTING_STATIONS': 31,\n",
       "   'SHORTNAME': 'DUGWAY',\n",
       "   'TOTAL_STATIONS': 31,\n",
       "   'URL': None}],\n",
       " 'SUMMARY': {'DATA_PARSING_TIME': '0.000953674316406 ms',\n",
       "  'METADATA_RESPONSE_TIME': '0.00259900093079 ms',\n",
       "  'NUMBER_OF_OBJECTS': 3,\n",
       "  'RESPONSE_CODE': 1,\n",
       "  'RESPONSE_MESSAGE': 'OK',\n",
       "  'TOTAL_DATA_TIME': '2.60305404663 ms'}}"
      ]
     },
     "execution_count": 10,
     "metadata": {},
     "output_type": "execute_result"
    }
   ],
   "source": [
    "q = 'http://api.mesowest.net/v2/networks?&id=1,2,3&token=2bd80e6822ab4f44816fc0f18828ba3c'\n",
    "# Open the url and read the contents\n",
    "resp = urllib.request.urlopen(q).read()\n",
    "# Decode and make the content a JSON object\n",
    "apiresponse = json.loads(resp.decode('utf-8'))\n",
    "\n",
    "# print API response\n",
    "apiresponse"
   ]
  },
  {
   "cell_type": "code",
   "execution_count": null,
   "metadata": {
    "collapsed": true
   },
   "outputs": [],
   "source": []
  }
 ],
 "metadata": {
  "kernelspec": {
   "display_name": "Python 3",
   "language": "python",
   "name": "python3"
  },
  "language_info": {
   "codemirror_mode": {
    "name": "ipython",
    "version": 3
   },
   "file_extension": ".py",
   "mimetype": "text/x-python",
   "name": "python",
   "nbconvert_exporter": "python",
   "pygments_lexer": "ipython3",
   "version": "3.5.0rc4"
  }
 },
 "nbformat": 4,
 "nbformat_minor": 0
}
